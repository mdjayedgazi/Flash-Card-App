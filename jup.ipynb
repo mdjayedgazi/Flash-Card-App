{
 "cells": [
  {
   "cell_type": "code",
   "execution_count": 1,
   "id": "198540ff",
   "metadata": {},
   "outputs": [],
   "source": [
    "import pandas as pd"
   ]
  },
  {
   "cell_type": "code",
   "execution_count": null,
   "id": "106d6f80",
   "metadata": {},
   "outputs": [],
   "source": [
    "data_file = pd.read_csv(\"data/french_words.csv\")\n",
    "print(data_file)\n",
    "data_dict = {row.French : row.English for (index,row) in data_file.iterrows()}\n",
    "print(data_dict)"
   ]
  },
  {
   "cell_type": "code",
   "execution_count": 3,
   "id": "7c016fe5",
   "metadata": {},
   "outputs": [],
   "source": [
    "ans = [data_dict[French] for French in data_dict]"
   ]
  },
  {
   "cell_type": "code",
   "execution_count": 9,
   "id": "6b3591b6",
   "metadata": {},
   "outputs": [
    {
     "name": "stdout",
     "output_type": "stream",
     "text": [
      "[{'French': 'partie', 'English': 'part'}, {'French': 'histoire', 'English': 'history'}, {'French': 'chercher', 'English': 'search'}, {'French': 'seulement', 'English': 'only'}, {'French': 'police', 'English': 'police'}, {'French': 'pensais', 'English': 'thought'}, {'French': 'aide', 'English': 'help'}, {'French': 'demande', 'English': 'request'}, {'French': 'genre', 'English': 'kind'}, {'French': 'mois', 'English': 'month'}, {'French': 'frère', 'English': 'brother'}, {'French': 'laisser', 'English': 'let'}, {'French': 'car', 'English': 'because'}, {'French': 'mettre', 'English': 'to put'}, {'French': 'aucun', 'English': 'no'}, {'French': 'laisse', 'English': 'leash'}, {'French': 'eux', 'English': 'them'}, {'French': 'ville', 'English': 'city'}, {'French': 'chaque', 'English': 'each'}, {'French': 'parlé', 'English': 'speak'}, {'French': 'arrivé', 'English': 'come'}, {'French': 'devrait', 'English': 'should'}, {'French': 'bébé', 'English': 'baby'}, {'French': 'longtemps', 'English': 'long time'}, {'French': 'heures', 'English': 'hours'}, {'French': 'vont', 'English': 'will'}, {'French': 'pendant', 'English': 'while'}, {'French': 'revoir', 'English': 'meet again'}, {'French': 'aucune', 'English': 'any'}, {'French': 'place', 'English': 'square'}, {'French': 'parle', 'English': 'speak'}, {'French': 'compris', 'English': 'understood'}, {'French': 'savais', 'English': 'knew'}, {'French': 'étaient', 'English': 'were'}, {'French': 'attention', 'English': 'Warning'}, {'French': 'voici', 'English': 'here is'}, {'French': 'pourrais', 'English': 'could'}, {'French': 'affaire', 'English': 'case'}, {'French': 'donner', 'English': 'give'}, {'French': 'type', 'English': 'type'}, {'French': 'leurs', 'English': 'their'}, {'French': 'donné', 'English': 'given'}, {'French': 'train', 'English': 'train'}, {'French': 'corps', 'English': 'body'}, {'French': 'endroit', 'English': 'place'}, {'French': 'yeux', 'English': 'eyes'}, {'French': 'façon', 'English': 'way'}, {'French': 'écoute', 'English': 'listen'}, {'French': 'dont', 'English': 'whose'}, {'French': 'trouve', 'English': 'find'}, {'French': 'premier', 'English': 'first'}, {'French': 'perdu', 'English': 'lost'}, {'French': 'main', 'English': 'hand'}, {'French': 'première', 'English': 'first'}, {'French': 'côté', 'English': 'side'}, {'French': 'pouvoir', 'English': 'power'}, {'French': 'vieux', 'English': 'old'}, {'French': 'sois', 'English': 'be'}, {'French': 'tiens', 'English': 'here'}, {'French': 'matin', 'English': 'morning'}, {'French': 'tellement', 'English': 'so much'}, {'French': 'enfant', 'English': 'child'}, {'French': 'point', 'English': 'point'}, {'French': 'venu', 'English': 'came'}, {'French': 'suite', 'English': 'after'}, {'French': 'pardon', 'English': 'sorry'}, {'French': 'venez', 'English': 'come'}, {'French': 'devant', 'English': 'in front of'}, {'French': 'vers', 'English': 'towards'}, {'French': 'minutes', 'English': 'minutes'}, {'French': 'demandé', 'English': 'request'}, {'French': 'chambre', 'English': 'bedroom'}, {'French': 'mis', 'English': 'placed'}, {'French': 'belle', 'English': 'beautiful'}, {'French': 'droit', 'English': 'law'}, {'French': 'aimerais', 'English': 'would like to'}, {'French': \"aujourd'hui\", 'English': 'today'}, {'French': 'mari', 'English': 'husband'}, {'French': 'cause', 'English': 'cause'}, {'French': 'enfin', 'English': 'finally'}, {'French': 'espère', 'English': 'hope'}, {'French': 'eau', 'English': 'water'}, {'French': 'attendez', 'English': 'Wait'}, {'French': 'parti', 'English': 'left'}, {'French': 'nouvelle', 'English': 'new'}, {'French': 'boulot', 'English': 'job'}, {'French': 'arrêter', 'English': 'Stop'}, {'French': 'dirait', 'English': 'would say'}, {'French': 'terre', 'English': 'Earth'}, {'French': 'compte', 'English': 'account'}, {'French': 'donne', 'English': 'given'}, {'French': 'loin', 'English': 'far'}, {'French': 'fin', 'English': 'end'}, {'French': 'croire', 'English': 'believe'}, {'French': 'chérie', 'English': 'sweetheart'}, {'French': 'gros', 'English': 'large'}, {'French': 'plutôt', 'English': 'rather'}, {'French': 'aura', 'English': 'will have'}, {'French': 'filles', 'English': 'girls'}, {'French': 'jouer', 'English': 'to play'}, {'French': 'bureau', 'English': 'office'}]\n"
     ]
    }
   ],
   "source": [
    "data_file = pd.read_csv(\"data/french_words.csv\")\n",
    "to_learn = data_file.to_dict(orient=\"records\")\n",
    "print(to_learn)"
   ]
  }
 ],
 "metadata": {
  "kernelspec": {
   "display_name": "flash_card",
   "language": "python",
   "name": "python3"
  },
  "language_info": {
   "codemirror_mode": {
    "name": "ipython",
    "version": 3
   },
   "file_extension": ".py",
   "mimetype": "text/x-python",
   "name": "python",
   "nbconvert_exporter": "python",
   "pygments_lexer": "ipython3",
   "version": "3.11.13"
  }
 },
 "nbformat": 4,
 "nbformat_minor": 5
}
